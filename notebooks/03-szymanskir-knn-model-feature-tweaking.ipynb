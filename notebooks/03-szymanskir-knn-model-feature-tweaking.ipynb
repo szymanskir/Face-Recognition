{
 "cells": [
  {
   "cell_type": "markdown",
   "metadata": {},
   "source": [
    "The goal of this notebook is to choose the number of PCA components for the feature extraction part. We want the number to provide the best possible accuracy without complicating the model too much."
   ]
  },
  {
   "cell_type": "code",
   "execution_count": 1,
   "metadata": {},
   "outputs": [],
   "source": [
    "import os\n",
    "import pandas as pd\n",
    "import seaborn as sns\n",
    "import matplotlib.pyplot as plt"
   ]
  },
  {
   "cell_type": "code",
   "execution_count": 13,
   "metadata": {},
   "outputs": [],
   "source": [
    "from sklearn.metrics import accuracy_score"
   ]
  },
  {
   "cell_type": "code",
   "execution_count": 2,
   "metadata": {},
   "outputs": [],
   "source": [
    "from src.models.knn_model import create_knn_model\n",
    "from src.features.build_features import create_pca_model"
   ]
  },
  {
   "cell_type": "code",
   "execution_count": 3,
   "metadata": {},
   "outputs": [],
   "source": [
    "train_data_filepath = os.path.join('..', 'data', 'raw', 'face_data_train.csv')\n",
    "train_labels_filepath = os.path.join('..', 'data', 'raw', 'labels_train.csv')\n",
    "test_data_filepath = os.path.join('..', 'data', 'raw', 'face_data_test.csv')\n",
    "test_labels_filepath = os.path.join('..', 'data', 'raw', 'labels_test.csv')"
   ]
  },
  {
   "cell_type": "code",
   "execution_count": 4,
   "metadata": {},
   "outputs": [],
   "source": [
    "train_data = pd.read_csv(train_data_filepath)\n",
    "train_labels = pd.read_csv(train_labels_filepath)\n",
    "test_data = pd.read_csv(test_data_filepath)\n",
    "test_labels = pd.read_csv(test_labels_filepath)"
   ]
  },
  {
   "cell_type": "code",
   "execution_count": 17,
   "metadata": {},
   "outputs": [],
   "source": [
    "scores = list()\n",
    "for eigenface_count in range(1, train_data.shape[1] + 1):\n",
    "    pca = create_pca_model(eigenface_count, train_data)\n",
    "    current_train_data = pca.transform(train_data)\n",
    "    current_test_data = pca.transform(test_data)\n",
    "    model = create_knn_model(1, current_train_data, train_labels.values.ravel())\n",
    "    current_score = accuracy_score(model.predict(current_test_data), test_labels)\n",
    "    scores.append(current_score)"
   ]
  },
  {
   "cell_type": "code",
   "execution_count": 18,
   "metadata": {},
   "outputs": [
    {
     "data": {
      "text/plain": [
       "0.9375"
      ]
     },
     "execution_count": 18,
     "metadata": {},
     "output_type": "execute_result"
    }
   ],
   "source": [
    "max(scores) # best possible accuracy"
   ]
  },
  {
   "cell_type": "code",
   "execution_count": 20,
   "metadata": {},
   "outputs": [
    {
     "data": {
      "text/plain": [
       "40"
      ]
     },
     "execution_count": 20,
     "metadata": {},
     "output_type": "execute_result"
    }
   ],
   "source": [
    "scores.index(max(scores)) + 1 # minimal number of components required to achieve the best accuracy"
   ]
  }
 ],
 "metadata": {
  "kernelspec": {
   "display_name": "Python [conda env:face-recognition]",
   "language": "python",
   "name": "conda-env-face-recognition-py"
  },
  "language_info": {
   "codemirror_mode": {
    "name": "ipython",
    "version": 3
   },
   "file_extension": ".py",
   "mimetype": "text/x-python",
   "name": "python",
   "nbconvert_exporter": "python",
   "pygments_lexer": "ipython3",
   "version": "3.6.6"
  }
 },
 "nbformat": 4,
 "nbformat_minor": 2
}
